{
 "cells": [
  {
   "cell_type": "code",
   "execution_count": 1,
   "id": "3689ded4-2d69-41be-a34f-6aef32304811",
   "metadata": {},
   "outputs": [],
   "source": [
    "import tensorflow as tf\n",
    "import matplotlib.pyplot as plt\n",
    "from matplotlib import cm\n",
    "from mpl_toolkits.mplot3d import Axes3D\n",
    "import pandas as pd\n",
    "import numpy as np"
   ]
  },
  {
   "cell_type": "markdown",
   "id": "5f9d5ebc-6aff-4ec4-8170-f64fcb8cd07c",
   "metadata": {},
   "source": [
    "# Get Data (Prepare many batches of data)"
   ]
  },
  {
   "cell_type": "code",
   "execution_count": 2,
   "id": "c880fdc3-ea23-4d2a-9939-fcad1f3d483c",
   "metadata": {},
   "outputs": [],
   "source": [
    "import VP_oscillator_predictor as VPs\n",
    "import matplotlib.pyplot as plt"
   ]
  },
  {
   "cell_type": "code",
   "execution_count": 3,
   "id": "1a1acb45-ac84-44d3-afb4-00aad6dbb3a0",
   "metadata": {},
   "outputs": [],
   "source": [
    "params={'a':2,\n",
    "        'b':-0.8,\n",
    "        'c':2,\n",
    "        'd':-10,\n",
    "        'delta_t':0.01}\n",
    "Predictor=VPs.VP_O(params)"
   ]
  },
  {
   "cell_type": "code",
   "execution_count": 108,
   "id": "147704cb-d36d-462f-9f12-b86e2f0f8bb4",
   "metadata": {},
   "outputs": [],
   "source": [
    "DATA={}\n",
    "batch_num=100\n",
    "T=100\n",
    "\n",
    "for i in np.arange(batch_num):\n",
    "    if i<20:\n",
    "        u=np.cos([i*np.pi/T for i in range(T)])\n",
    "    else:\n",
    "        u=np.cos([i*np.pi/T for i in range(T)])\n",
    "    x0,y0=np.random.random_sample(1)[0],np.random.random_sample(1)[0]\n",
    "    x,y=Predictor.sim(x0,y0,T,u)\n",
    "    DATA[i]={'x':x,'y':y,'u':u}"
   ]
  },
  {
   "cell_type": "code",
   "execution_count": 109,
   "id": "22f02903-0fa2-4bc3-b3dc-ca25abaa2cd6",
   "metadata": {},
   "outputs": [
    {
     "data": {
      "text/plain": [
       "<matplotlib.legend.Legend at 0x1a735d80d60>"
      ]
     },
     "execution_count": 109,
     "metadata": {},
     "output_type": "execute_result"
    },
    {
     "data": {
      "image/png": "[encoded data removed]",
      "text/plain": [
       "<Figure size 432x288 with 1 Axes>"
      ]
     },
     "metadata": {
      "needs_background": "light"
     },
     "output_type": "display_data"
    }
   ],
   "source": [
    "plt.plot(DATA[0]['x'],label='x')\n",
    "plt.plot(DATA[0]['y'],label='y')\n",
    "plt.legend()"
   ]
  },
  {
   "cell_type": "code",
   "execution_count": 110,
   "id": "19bc8e58-9afc-4f2b-9dc4-21878a52f187",
   "metadata": {},
   "outputs": [
    {
     "name": "stdout",
     "output_type": "stream",
     "text": [
      "(100, 2) (100, 2) (100, 1)\n"
     ]
    }
   ],
   "source": [
    "index=0\n",
    "X_train=np.concatenate((DATA[index]['x'][0:-1].reshape((-1,1)),DATA[index]['y'][0:-1].reshape((-1,1))),axis=1)\n",
    "Y_train=np.concatenate((DATA[index]['x'][1:].reshape((-1,1)),DATA[index]['y'][1:].reshape((-1,1))),axis=1)\n",
    "X_train_F=DATA[index]['u'].reshape((-1,1))\n",
    "print(X_train.shape,Y_train.shape,X_train_F.shape)"
   ]
  },
  {
   "cell_type": "markdown",
   "id": "c8a885e8-c702-4159-9bac-76410b3c537f",
   "metadata": {},
   "source": [
    "# Define model (Consider sever steps)"
   ]
  },
  {
   "cell_type": "code",
   "execution_count": 111,
   "id": "453c1d2a-24f7-4db5-9bb5-b1873a6b73b0",
   "metadata": {},
   "outputs": [],
   "source": [
    "def weight_variable(shape, var_name, distribution='tn', scale=0.1):\n",
    "    if distribution == 'tn':\n",
    "        initial = tf.compat.v1.truncated_normal(shape, stddev=scale, dtype=tf.float64)\n",
    "    elif distribution == 'xavier':\n",
    "        scale = 4 * np.sqrt(6.0 / (shape[0] + shape[1]))\n",
    "        initial = tf.compat.v1.random_uniform(shape, minval=-scale, maxval=scale, dtype=tf.float64)\n",
    "    elif distribution == 'dl':\n",
    "        # see page 295 of Goodfellow et al's DL book\n",
    "        # divide by sqrt of m, where m is number of inputs\n",
    "        scale = 1.0 / np.sqrt(shape[0])\n",
    "        initial = tf.compat.v1.random_uniform(shape, minval=-scale, maxval=scale, dtype=tf.float64)\n",
    "    elif distribution == 'he':\n",
    "        # from He, et al. ICCV 2015 (referenced in Andrew Ng's class)\n",
    "        # divide by m, where m is number of inputs\n",
    "        scale = np.sqrt(2.0 / shape[0])\n",
    "        initial = tf.compat.v1.random_normal(shape, mean=0, stddev=scale, dtype=tf.float64)\n",
    "    elif distribution == 'glorot_bengio':\n",
    "        # see page 295 of Goodfellow et al's DL book\n",
    "        scale = np.sqrt(6.0 / (shape[0] + shape[1]))\n",
    "        initial = tf.compat.v1.random_uniform(shape, minval=-scale, maxval=scale, dtype=tf.float64)\n",
    "    else:\n",
    "        initial = np.loadtxt(distribution, delimiter=',', dtype=np.float64)\n",
    "        if (initial.shape[0] != shape[0]) or (initial.shape[1] != shape[1]):\n",
    "            raise ValueError(\n",
    "                'Initialization for %s is not correct shape. Expecting (%d,%d), but find (%d,%d) in %s.' % (\n",
    "                    var_name, shape[0], shape[1], initial.shape[0], initial.shape[1], distribution))\n",
    "    return tf.Variable(initial, name=var_name)\n",
    "\n",
    "\n",
    "def bias_variable(shape, var_name, distribution=''):\n",
    "    if distribution:\n",
    "        initial = np.genfromtxt(distribution, delimiter=',', dtype=np.float64)\n",
    "    else:\n",
    "        initial = tf.compat.v1.constant(0.0, shape=shape, dtype=tf.float64)\n",
    "    return tf.Variable(initial, name=var_name)"
   ]
  },
  {
   "cell_type": "code",
   "execution_count": 112,
   "id": "18431928-2852-4f75-aac4-9f7153061d38",
   "metadata": {},
   "outputs": [],
   "source": [
    "class Test_net():\n",
    "    def __init__(self,params):\n",
    "        super(Test_net, self).__init__()\n",
    "        tf.compat.v1.disable_eager_execution()\n",
    "        self.params=params\n",
    "        x_in,f_in=self.params['input_layer'],self.params['input_f_layer']\n",
    "        self.x = tf.compat.v1.placeholder(tf.float64, [None, x_in])\n",
    "        self.f = tf.compat.v1.placeholder(tf.float64, [None, f_in])\n",
    "        self.y_bar = tf.compat.v1.placeholder(tf.float64, [None, x_in])\n",
    "        \n",
    "        self.weights = dict()\n",
    "        self.biases = dict()\n",
    "        \n",
    "    def encoding_layer(self):\n",
    "        widths=self.params['encoder_layer']#width be like [[2,3],[3,4]]\n",
    "        for i in np.arange(len(widths)):\n",
    "            self.weights['WE%d' % (i)] = weight_variable([widths[i][0], widths[i][1]], var_name='WE%d' % (i))\n",
    "            self.biases['bE%d' % (i)] = bias_variable([widths[i][1], ], var_name='bE%d' % (i))\n",
    "\n",
    "    def forcing_layer(self):\n",
    "        widths=self.params['forcing_layer']#width be like [[2,3],[3,4]]\n",
    "        for i in np.arange(len(widths)):\n",
    "            self.weights['Wf%d' % (i)] = weight_variable([widths[i][0], widths[i][1]], var_name='Wf%d' % (i))\n",
    "            self.biases['bf%d' % (i)] = bias_variable([widths[i][1], ], var_name='bf%d' % (i))\n",
    "\n",
    "    def decoding_layer(self):\n",
    "        widths=self.params['decoder_layer']#width be like [[2,3],[3,4]]\n",
    "        for i in np.arange(len(widths)):\n",
    "            self.weights['WD%d' % (i)] = weight_variable([widths[i][0], widths[i][1]], var_name='WD%d' % (i))\n",
    "            self.biases['bD%d' % (i)] = bias_variable([widths[i][1], ], var_name='bD%d' % (i))\n",
    "            \n",
    "    def K_layer(self):\n",
    "        widths=self.params['K_layer']\n",
    "        self.K = weight_variable(widths, var_name='K')\n",
    "            \n",
    "    def forward_net(self):\n",
    "        \n",
    "        self.encoding_layer()\n",
    "        self.forcing_layer()\n",
    "        self.decoding_layer()\n",
    "        self.K_layer()\n",
    "        \n",
    "        with tf.compat.v1.variable_scope('encoder',reuse=tf.compat.v1.AUTO_REUSE):\n",
    "            widths=self.params['encoder_layer']\n",
    "            prev_layer=self.x\n",
    "            for i in np.arange(len(widths)-1):\n",
    "                prev_layer = tf.nn.relu(tf.matmul(prev_layer, self.weights['WE%d' % (i)]) + self.biases['bE%d' % (i)])\n",
    "            self.x_encoder = tf.matmul(prev_layer, self.weights['WE%d' % (len(widths)-1)]) + self.biases['bE%d' % (len(widths)-1)]\n",
    "             \n",
    "        with tf.compat.v1.variable_scope('forcing',reuse=tf.compat.v1.AUTO_REUSE):\n",
    "            widths=self.params['forcing_layer']\n",
    "            prev_layer=self.f\n",
    "            for i in np.arange(len(widths)-1):\n",
    "                prev_layer = tf.nn.relu(tf.matmul(prev_layer, self.weights['Wf%d' % (i)]) + self.biases['bf%d' % (i)])\n",
    "            self.f_encoder = tf.matmul(prev_layer, self.weights['Wf%d' % (len(widths)-1)]) + self.biases['bf%d' % (len(widths)-1)]\n",
    "        \n",
    "        with tf.compat.v1.variable_scope('feature',reuse=tf.compat.v1.AUTO_REUSE):\n",
    "            self.feature=tf.concat([self.x_encoder,self.f_encoder],axis=1)\n",
    "        \n",
    "        with tf.compat.v1.variable_scope('encoder_y',reuse=tf.compat.v1.AUTO_REUSE):\n",
    "            widths=self.params['encoder_layer']\n",
    "            prev_layer=self.y_bar\n",
    "            for i in np.arange(len(widths)-1):\n",
    "                prev_layer = tf.nn.relu(tf.matmul(prev_layer, self.weights['WE%d' % (i)]) + self.biases['bE%d' % (i)])\n",
    "            self.y_encoder = tf.matmul(prev_layer, self.weights['WE%d' % (len(widths)-1)]) + self.biases['bE%d' % (len(widths)-1)]\n",
    "        \n",
    "        '''\n",
    "        with tf.compat.v1.variable_scope('K',reuse=tf.compat.v1.AUTO_REUSE):\n",
    "            #use feature and y_encoder to get K through K=GA\n",
    "            self.G_inv=tf.compat.v1.matrix_inverse(tf.matmul(tf.transpose(self.feature),self.feature)/300)\n",
    "            self.A=tf.matmul(tf.transpose(self.feature),self.y_encoder)/300\n",
    "            self.K=tf.matmul(self.G_inv,self.A)\n",
    "        '''\n",
    "            \n",
    "        '''\n",
    "        ############################################################################################################################################\n",
    "        '''  \n",
    "        \n",
    "        with tf.compat.v1.variable_scope('advance',reuse=tf.compat.v1.AUTO_REUSE):\n",
    "            self.x_adv=tf.matmul(self.feature,self.K)\n",
    "                \n",
    "        with tf.compat.v1.variable_scope('decoder',reuse=tf.compat.v1.AUTO_REUSE):\n",
    "            widths=self.params['decoder_layer']\n",
    "            prev_layer=self.x_adv\n",
    "            for i in np.arange(len(widths)-1):\n",
    "                prev_layer = tf.nn.relu(tf.matmul(prev_layer, self.weights['WD%d' % (i)]) + self.biases['bD%d' % (i)])\n",
    "            self.y = tf.matmul(prev_layer, self.weights['WD%d' % (len(widths)-1)]) + self.biases['bD%d' % (len(widths)-1)]\n",
    "            \n",
    "        with tf.compat.v1.variable_scope('decoder_x',reuse=tf.compat.v1.AUTO_REUSE):\n",
    "            widths=self.params['decoder_layer']\n",
    "            prev_layer=self.x_encoder\n",
    "            for i in np.arange(len(widths)-1):\n",
    "                prev_layer = tf.nn.relu(tf.matmul(prev_layer, self.weights['WD%d' % (i)]) + self.biases['bD%d' % (i)])\n",
    "            self.x_decoder = tf.matmul(prev_layer, self.weights['WD%d' % (len(widths)-1)]) + self.biases['bD%d' % (len(widths)-1)]\n",
    "        \n",
    "        \n",
    "            \n",
    "    def loss(self):\n",
    "        with tf.compat.v1.variable_scope('loss1',reuse=tf.compat.v1.AUTO_REUSE):\n",
    "            self.loss1 = tf.reduce_mean(tf.square(self.y-self.y_bar))\n",
    "            \n",
    "        with tf.compat.v1.variable_scope('loss2',reuse=tf.compat.v1.AUTO_REUSE):\n",
    "            self.loss2 = tf.reduce_mean(tf.square(self.x_decoder-self.x))\n",
    "            \n",
    "        with tf.compat.v1.variable_scope('loss3',reuse=tf.compat.v1.AUTO_REUSE):\n",
    "            self.loss3 = tf.reduce_mean(tf.square(self.y_encoder-self.x_adv))\n",
    "            \n",
    "        with tf.compat.v1.variable_scope('Loss',reuse=tf.compat.v1.AUTO_REUSE):\n",
    "            self.Loss=self.loss1+self.loss2+self.loss3\n",
    "    \n",
    "    def opt(self):\n",
    "        self.optimizer = tf.compat.v1.train.AdamOptimizer(learning_rate=self.params['lr'])\n",
    "        self.train_op = self.optimizer.minimize(self.Loss)\n",
    "\n"
   ]
  },
  {
   "cell_type": "markdown",
   "id": "1727ef9f-2f6b-42c0-bc01-8fcb55c1a9f7",
   "metadata": {},
   "source": [
    "# Training data"
   ]
  },
  {
   "cell_type": "code",
   "execution_count": 113,
   "id": "54d1eb81-14ed-4e15-b4b4-7c5d1eae621f",
   "metadata": {},
   "outputs": [],
   "source": [
    "params={}\n",
    "params['encoder_layer']=[[X_train.shape[1],30],[30,30]]\n",
    "params['decoder_layer']=[[30,30],[30,X_train.shape[1]]]\n",
    "params['forcing_layer']=[[1,30]]\n",
    "params['K_layer']=[30+30,30]\n",
    "params['input_layer']=X_train.shape[1]\n",
    "params['input_f_layer']=X_train_F.shape[1]\n",
    "params['lr']=0.001\n",
    "\n",
    "model=Test_net(params)\n",
    "model.forward_net()\n",
    "model.loss()\n",
    "model.opt()\n",
    "init_op = tf.compat.v1.global_variables_initializer()"
   ]
  },
  {
   "cell_type": "code",
   "execution_count": 114,
   "id": "ebc8983d-bcda-407b-846c-80f1c94abf74",
   "metadata": {},
   "outputs": [],
   "source": [
    "sess=tf.compat.v1.Session()\n",
    "sess.run(init_op)\n",
    "saver = tf.compat.v1.train.Saver()\n",
    "r1,r2=[],[]"
   ]
  },
  {
   "cell_type": "code",
   "execution_count": 162,
   "id": "64c10e0f-0818-4297-886a-587086a2ee52",
   "metadata": {},
   "outputs": [],
   "source": [
    "epoch=1000\n",
    "BATCH_NUM=100\n",
    "for step in np.arange(epoch):\n",
    "    if np.mod(step,100)==0 and step!=0:\n",
    "        saver.save(sess, \"model/\"+str(step)+\"model.ckpt\")\n",
    "    for index in np.arange(BATCH_NUM):\n",
    "        X_train=np.concatenate((DATA[index]['x'][0:-1].reshape((-1,1)),DATA[index]['y'][0:-1].reshape((-1,1))),axis=1)\n",
    "        Y_train=np.concatenate((DATA[index]['x'][1:].reshape((-1,1)),DATA[index]['y'][1:].reshape((-1,1))),axis=1)\n",
    "        X_train_F=DATA[index]['u'].reshape((-1,1))\n",
    "        sess.run(model.train_op,feed_dict={model.x:X_train,model.y_bar:Y_train,model.f:X_train_F})\n",
    "        r1.append(sess.run(model.Loss,feed_dict={model.x:X_train,model.y_bar:Y_train,model.f:X_train_F}))\n",
    "        #r2.append(sess.run(model.Loss,feed_dict={model.x:X_test,model.y_bar:Y_test,model.f:X_test_F}))"
   ]
  },
  {
   "cell_type": "code",
   "execution_count": 163,
   "id": "dfb9c2d6-166e-4416-b22a-126a7a2d2219",
   "metadata": {},
   "outputs": [
    {
     "data": {
      "text/plain": [
       "[<matplotlib.lines.Line2D at 0x1a73862fc10>]"
      ]
     },
     "execution_count": 163,
     "metadata": {},
     "output_type": "execute_result"
    },
    {
     "data": {
      "image/png": "[encoded data removed]",
      "text/plain": [
       "<Figure size 432x288 with 1 Axes>"
      ]
     },
     "metadata": {
      "needs_background": "light"
     },
     "output_type": "display_data"
    }
   ],
   "source": [
    "plt.plot(r1)"
   ]
  },
  {
   "cell_type": "code",
   "execution_count": 164,
   "id": "b2015f91-72ab-43fd-bc62-03ba61c0a17c",
   "metadata": {},
   "outputs": [
    {
     "data": {
      "text/plain": [
       "5.307260197829148e-06"
      ]
     },
     "execution_count": 164,
     "metadata": {},
     "output_type": "execute_result"
    }
   ],
   "source": [
    "np.min(r1)"
   ]
  },
  {
   "cell_type": "markdown",
   "id": "269bc2a2-dbbf-4140-894e-e1bc9ea71875",
   "metadata": {},
   "source": [
    "# Test"
   ]
  },
  {
   "cell_type": "code",
   "execution_count": 183,
   "id": "472eb939-e813-43a6-9fe8-b18a51c231f7",
   "metadata": {},
   "outputs": [
    {
     "name": "stdout",
     "output_type": "stream",
     "text": [
      "(100, 2) (100, 2) (100, 1)\n"
     ]
    }
   ],
   "source": [
    "index=12\n",
    "X_test=np.concatenate((DATA[index]['x'][0:-1].reshape((-1,1)),DATA[index]['y'][0:-1].reshape((-1,1))),axis=1)\n",
    "Y_test=np.concatenate((DATA[index]['x'][1:].reshape((-1,1)),DATA[index]['y'][1:].reshape((-1,1))),axis=1)\n",
    "X_test_F=DATA[index]['u'].reshape((-1,1))\n",
    "print(X_train.shape,Y_train.shape,X_train_F.shape)"
   ]
  },
  {
   "cell_type": "code",
   "execution_count": 184,
   "id": "7689f93c-6dc4-4d07-87ed-aa9e28290e60",
   "metadata": {},
   "outputs": [],
   "source": [
    "X,Y,XF=X_test,Y_test,X_test_F\n",
    "x0,u0=X_test[0].reshape((1,-1)),X_test_F[0].reshape((1,-1))\n",
    "y_reg=[]\n",
    "for t in np.arange(X_test_F.shape[0]):\n",
    "    y_=sess.run(model.y,feed_dict={model.x:x0,model.f:u0})\n",
    "    x0,u0=y_,X_test_F[t].reshape((1,-1))\n",
    "    y_reg.append(y_.tolist()[0])\n",
    "y_reg=np.array(y_reg)"
   ]
  },
  {
   "cell_type": "code",
   "execution_count": 188,
   "id": "7463d026-7bf8-4b44-bbca-a1bd9c565b55",
   "metadata": {},
   "outputs": [
    {
     "data": {
      "text/plain": [
       "[<matplotlib.lines.Line2D at 0x1a739807b50>]"
      ]
     },
     "execution_count": 188,
     "metadata": {},
     "output_type": "execute_result"
    },
    {
     "data": {
      "image/png": "[encoded data removed]",
      "text/plain": [
       "<Figure size 432x288 with 1 Axes>"
      ]
     },
     "metadata": {
      "needs_background": "light"
     },
     "output_type": "display_data"
    }
   ],
   "source": [
    "ers=[]\n",
    "\n",
    "for index in np.arange(100):\n",
    "    X_test=np.concatenate((DATA[index]['x'][0:-1].reshape((-1,1)),DATA[index]['y'][0:-1].reshape((-1,1))),axis=1)\n",
    "    Y_test=np.concatenate((DATA[index]['x'][1:].reshape((-1,1)),DATA[index]['y'][1:].reshape((-1,1))),axis=1)\n",
    "    X_test_F=DATA[index]['u'].reshape((-1,1))\n",
    "    \n",
    "    X,Y,XF=X_test,Y_test,X_test_F\n",
    "    x0,u0=X_test[0].reshape((1,-1)),X_test_F[0].reshape((1,-1))\n",
    "    y_reg=[]\n",
    "    for t in np.arange(X_test_F.shape[0]):\n",
    "        y_=sess.run(model.y,feed_dict={model.x:x0,model.f:u0})\n",
    "        x0,u0=y_,X_test_F[t].reshape((1,-1))\n",
    "        y_reg.append(y_.tolist()[0])\n",
    "    y_reg=np.array(y_reg)\n",
    "    ers.append(np.mean(np.abs(y_reg-Y)))\n",
    "plt.plot(ers)"
   ]
  },
  {
   "cell_type": "code",
   "execution_count": 190,
   "id": "91714b1b-dc02-4e56-8b90-e94160adfb51",
   "metadata": {},
   "outputs": [
    {
     "data": {
      "text/plain": [
       "[<matplotlib.lines.Line2D at 0x1a73a834160>]"
      ]
     },
     "execution_count": 190,
     "metadata": {},
     "output_type": "execute_result"
    },
    {
     "data": {
      "image/png": "[encoded data removed]",
      "text/plain": [
       "<Figure size 432x288 with 1 Axes>"
      ]
     },
     "metadata": {
      "needs_background": "light"
     },
     "output_type": "display_data"
    }
   ],
   "source": [
    "ers=[]\n",
    "\n",
    "for index in np.arange(100):\n",
    "    X_test=np.concatenate((DATA[index]['x'][0:-1].reshape((-1,1)),DATA[index]['y'][0:-1].reshape((-1,1))),axis=1)\n",
    "    Y_test=np.concatenate((DATA[index]['x'][1:].reshape((-1,1)),DATA[index]['y'][1:].reshape((-1,1))),axis=1)\n",
    "    X_test_F=DATA[index]['u'].reshape((-1,1))\n",
    "    \n",
    "    X,Y,XF=X_test,Y_test,X_test_F\n",
    "    y_reg=sess.run(model.y,feed_dict={model.x:X,model.f:XF})\n",
    "    ers.append(np.mean(np.abs(y_reg-Y)))\n",
    "plt.plot(ers)"
   ]
  },
  {
   "cell_type": "code",
   "execution_count": 185,
   "id": "880464c0-bcc3-4a55-8e7d-1453a5237c36",
   "metadata": {},
   "outputs": [
    {
     "data": {
      "text/plain": [
       "[<matplotlib.lines.Line2D at 0x1a7397955e0>,\n",
       " <matplotlib.lines.Line2D at 0x1a7397956a0>]"
      ]
     },
     "execution_count": 185,
     "metadata": {},
     "output_type": "execute_result"
    },
    {
     "data": {
      "image/png": "[encoded data removed]",
      "text/plain": [
       "<Figure size 432x288 with 1 Axes>"
      ]
     },
     "metadata": {
      "needs_background": "light"
     },
     "output_type": "display_data"
    }
   ],
   "source": [
    "plt.plot(y_reg,'r')\n",
    "plt.plot(Y,'b')"
   ]
  },
  {
   "cell_type": "markdown",
   "id": "d90b97c5-8635-4dc6-aa4e-6851bd99eabd",
   "metadata": {},
   "source": [
    "# Looks Good!!!!"
   ]
  },
  {
   "cell_type": "code",
   "execution_count": 168,
   "id": "8759e1e6-b468-47c1-8af2-4e18b2d763d7",
   "metadata": {},
   "outputs": [
    {
     "data": {
      "text/plain": [
       "<matplotlib.image.AxesImage at 0x1a7389dedc0>"
      ]
     },
     "execution_count": 168,
     "metadata": {},
     "output_type": "execute_result"
    },
    {
     "data": {
      "image/png": "[encoded data removed]",
      "text/plain": [
       "<Figure size 288x576 with 1 Axes>"
      ]
     },
     "metadata": {
      "needs_background": "light"
     },
     "output_type": "display_data"
    }
   ],
   "source": [
    "K=sess.run(model.K)\n",
    "plt.matshow(K)"
   ]
  },
  {
   "cell_type": "code",
   "execution_count": 169,
   "id": "9e6c97ea-93ce-4a7c-b7fb-0c916f12e1a8",
   "metadata": {},
   "outputs": [],
   "source": [
    "u,sigma,v=np.linalg.svd(K)"
   ]
  },
  {
   "cell_type": "code",
   "execution_count": 170,
   "id": "558355d1-5c59-437a-bd3c-6ba4464b745a",
   "metadata": {},
   "outputs": [
    {
     "data": {
      "text/plain": [
       "[<matplotlib.lines.Line2D at 0x1a7395abaf0>]"
      ]
     },
     "execution_count": 170,
     "metadata": {},
     "output_type": "execute_result"
    },
    {
     "data": {
      "image/png": "[encoded data removed]",
      "text/plain": [
       "<Figure size 432x288 with 1 Axes>"
      ]
     },
     "metadata": {
      "needs_background": "light"
     },
     "output_type": "display_data"
    }
   ],
   "source": [
    "plt.plot(sigma)"
   ]
  },
  {
   "cell_type": "code",
   "execution_count": null,
   "id": "fede23d5-21ac-4790-9e7b-9e98fb668b29",
   "metadata": {},
   "outputs": [],
   "source": []
  }
 ],
 "metadata": {
  "kernelspec": {
   "display_name": "Python 3",
   "language": "python",
   "name": "python3"
  },
  "language_info": {
   "codemirror_mode": {
    "name": "ipython",
    "version": 3
   },
   "file_extension": ".py",
   "mimetype": "text/x-python",
   "name": "python",
   "nbconvert_exporter": "python",
   "pygments_lexer": "ipython3",
   "version": "3.8.8"
  }
 },
 "nbformat": 4,
 "nbformat_minor": 5
}
