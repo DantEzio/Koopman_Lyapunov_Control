{
 "cells": [
  {
   "cell_type": "code",
   "execution_count": 1,
   "id": "3689ded4-2d69-41be-a34f-6aef32304811",
   "metadata": {},
   "outputs": [],
   "source": [
    "import tensorflow as tf\n",
    "import matplotlib.pyplot as plt\n",
    "from matplotlib import cm\n",
    "from mpl_toolkits.mplot3d import Axes3D\n",
    "import pandas as pd\n",
    "import numpy as np"
   ]
  },
  {
   "cell_type": "markdown",
   "id": "5f9d5ebc-6aff-4ec4-8170-f64fcb8cd07c",
   "metadata": {},
   "source": [
    "# Get Data (Prepare many batches of data)"
   ]
  },
  {
   "cell_type": "code",
   "execution_count": 2,
   "id": "c880fdc3-ea23-4d2a-9939-fcad1f3d483c",
   "metadata": {},
   "outputs": [],
   "source": [
    "import VP_oscillator_predictor as VPs\n",
    "import matplotlib.pyplot as plt"
   ]
  },
  {
   "cell_type": "code",
   "execution_count": 3,
   "id": "1a1acb45-ac84-44d3-afb4-00aad6dbb3a0",
   "metadata": {},
   "outputs": [],
   "source": [
    "params={'a':2,\n",
    "        'b':-0.8,\n",
    "        'c':2,\n",
    "        'd':-10,\n",
    "        'delta_t':0.01}\n",
    "Predictor=VPs.VP_O(params)"
   ]
  },
  {
   "cell_type": "code",
   "execution_count": 4,
   "id": "147704cb-d36d-462f-9f12-b86e2f0f8bb4",
   "metadata": {},
   "outputs": [],
   "source": [
    "DATA={}\n",
    "batch_num=100\n",
    "T=100\n",
    "\n",
    "for i in np.arange(batch_num):\n",
    "    if i<20:\n",
    "        u=np.cos([i*np.pi/T for i in range(T)])\n",
    "    else:\n",
    "        u=np.cos([i*np.pi/T for i in range(T)])\n",
    "    x0,y0=np.random.random_sample(1)[0],np.random.random_sample(1)[0]\n",
    "    x,y=Predictor.sim(x0,y0,T,u)\n",
    "    DATA[i]={'x':x,'y':y,'u':u}"
   ]
  },
  {
   "cell_type": "code",
   "execution_count": 5,
   "id": "22f02903-0fa2-4bc3-b3dc-ca25abaa2cd6",
   "metadata": {},
   "outputs": [
    {
     "data": {
      "text/plain": [
       "<matplotlib.legend.Legend at 0x1b705d38d90>"
      ]
     },
     "execution_count": 5,
     "metadata": {},
     "output_type": "execute_result"
    },
    {
     "data": {
      "image/png": "[encoded data removed]",
      "text/plain": [
       "<Figure size 432x288 with 1 Axes>"
      ]
     },
     "metadata": {
      "needs_background": "light"
     },
     "output_type": "display_data"
    }
   ],
   "source": [
    "plt.plot(DATA[0]['x'],label='x')\n",
    "plt.plot(DATA[0]['y'],label='y')\n",
    "plt.legend()"
   ]
  },
  {
   "cell_type": "code",
   "execution_count": 6,
   "id": "19bc8e58-9afc-4f2b-9dc4-21878a52f187",
   "metadata": {},
   "outputs": [
    {
     "name": "stdout",
     "output_type": "stream",
     "text": [
      "(100, 2) (100, 2) (100, 1)\n"
     ]
    }
   ],
   "source": [
    "index=0\n",
    "X_train=np.concatenate((DATA[index]['x'][0:-1].reshape((-1,1)),DATA[index]['y'][0:-1].reshape((-1,1))),axis=1)\n",
    "Y_train=np.concatenate((DATA[index]['x'][1:].reshape((-1,1)),DATA[index]['y'][1:].reshape((-1,1))),axis=1)\n",
    "X_train_F=DATA[index]['u'].reshape((-1,1))\n",
    "print(X_train.shape,Y_train.shape,X_train_F.shape)"
   ]
  },
  {
   "cell_type": "markdown",
   "id": "c8a885e8-c702-4159-9bac-76410b3c537f",
   "metadata": {},
   "source": [
    "# Define model (Consider sever steps)"
   ]
  },
  {
   "cell_type": "code",
   "execution_count": 7,
   "id": "453c1d2a-24f7-4db5-9bb5-b1873a6b73b0",
   "metadata": {},
   "outputs": [],
   "source": [
    "def weight_variable(shape, var_name, distribution='tn', scale=0.1):\n",
    "    if distribution == 'tn':\n",
    "        initial = tf.compat.v1.truncated_normal(shape, stddev=scale, dtype=tf.float64)\n",
    "    elif distribution == 'xavier':\n",
    "        scale = 4 * np.sqrt(6.0 / (shape[0] + shape[1]))\n",
    "        initial = tf.compat.v1.random_uniform(shape, minval=-scale, maxval=scale, dtype=tf.float64)\n",
    "    elif distribution == 'dl':\n",
    "        # see page 295 of Goodfellow et al's DL book\n",
    "        # divide by sqrt of m, where m is number of inputs\n",
    "        scale = 1.0 / np.sqrt(shape[0])\n",
    "        initial = tf.compat.v1.random_uniform(shape, minval=-scale, maxval=scale, dtype=tf.float64)\n",
    "    elif distribution == 'he':\n",
    "        # from He, et al. ICCV 2015 (referenced in Andrew Ng's class)\n",
    "        # divide by m, where m is number of inputs\n",
    "        scale = np.sqrt(2.0 / shape[0])\n",
    "        initial = tf.compat.v1.random_normal(shape, mean=0, stddev=scale, dtype=tf.float64)\n",
    "    elif distribution == 'glorot_bengio':\n",
    "        # see page 295 of Goodfellow et al's DL book\n",
    "        scale = np.sqrt(6.0 / (shape[0] + shape[1]))\n",
    "        initial = tf.compat.v1.random_uniform(shape, minval=-scale, maxval=scale, dtype=tf.float64)\n",
    "    else:\n",
    "        initial = np.loadtxt(distribution, delimiter=',', dtype=np.float64)\n",
    "        if (initial.shape[0] != shape[0]) or (initial.shape[1] != shape[1]):\n",
    "            raise ValueError(\n",
    "                'Initialization for %s is not correct shape. Expecting (%d,%d), but find (%d,%d) in %s.' % (\n",
    "                    var_name, shape[0], shape[1], initial.shape[0], initial.shape[1], distribution))\n",
    "    return tf.Variable(initial, name=var_name)\n",
    "\n",
    "\n",
    "def bias_variable(shape, var_name, distribution=''):\n",
    "    if distribution:\n",
    "        initial = np.genfromtxt(distribution, delimiter=',', dtype=np.float64)\n",
    "    else:\n",
    "        initial = tf.compat.v1.constant(0.0, shape=shape, dtype=tf.float64)\n",
    "    return tf.Variable(initial, name=var_name)"
   ]
  },
  {
   "cell_type": "code",
   "execution_count": 8,
   "id": "18431928-2852-4f75-aac4-9f7153061d38",
   "metadata": {},
   "outputs": [],
   "source": [
    "class Test_net():\n",
    "    def __init__(self,params):\n",
    "        super(Test_net, self).__init__()\n",
    "        tf.compat.v1.disable_eager_execution()\n",
    "        self.params=params\n",
    "        x_in,f_in=self.params['input_layer'],self.params['input_f_layer']\n",
    "        time_steps=self.params['step']\n",
    "        self.x = tf.compat.v1.placeholder(tf.float64, [None, x_in])\n",
    "        self.f = tf.compat.v1.placeholder(tf.float64, [None, f_in])\n",
    "        self.y = tf.compat.v1.placeholder(tf.float64, [None, x_in])\n",
    "        \n",
    "        self.weights = dict()\n",
    "        self.biases = dict()\n",
    "        self.encoding_layer()\n",
    "        self.forcing_layer()\n",
    "        self.feature_layer()\n",
    "        self.decoding_layer()\n",
    "        self.K_layer()\n",
    "        \n",
    "    def encoding_layer(self):\n",
    "        widths=self.params['encoder_layer']#width be like [[2,3],[3,4]]\n",
    "        for i in np.arange(len(widths)):\n",
    "            self.weights['WE%d' % (i)] = weight_variable([widths[i][0], widths[i][1]], var_name='WE%d' % (i))\n",
    "            self.biases['bE%d' % (i)] = bias_variable([widths[i][1], ], var_name='bE%d' % (i))\n",
    "\n",
    "    def forcing_layer(self):\n",
    "        widths=self.params['forcing_layer']#width be like [[2,3],[3,4]]\n",
    "        for i in np.arange(len(widths)):\n",
    "            self.weights['Wf%d' % (i)] = weight_variable([widths[i][0], widths[i][1]], var_name='Wf%d' % (i))\n",
    "            self.biases['bf%d' % (i)] = bias_variable([widths[i][1], ], var_name='bf%d' % (i))\n",
    "            \n",
    "    def feature_layer(self):\n",
    "        widths=self.params['feature_layer']#width be like [[2,3],[3,4]]\n",
    "        for i in np.arange(len(widths)):\n",
    "            self.weights['Wfe%d' % (i)] = weight_variable([widths[i][0], widths[i][1]], var_name='Wfe%d' % (i))\n",
    "            self.biases['bfe%d' % (i)] = bias_variable([widths[i][1], ], var_name='bfe%d' % (i))\n",
    "\n",
    "    def decoding_layer(self):\n",
    "        widths=self.params['decoder_layer']#width be like [[2,3],[3,4]]\n",
    "        for i in np.arange(len(widths)):\n",
    "            self.weights['WD%d' % (i)] = weight_variable([widths[i][0], widths[i][1]], var_name='WD%d' % (i))\n",
    "            self.biases['bD%d' % (i)] = bias_variable([widths[i][1], ], var_name='bD%d' % (i))\n",
    "            \n",
    "    def K_layer(self):\n",
    "        widths=self.params['K_layer']#width be like [[2,3],[3,4]]\n",
    "        for i in np.arange(len(widths)):\n",
    "            self.weights['WK%d' % (i)] = weight_variable([widths[i][0], widths[i][1]], var_name='WK%d' % (i))\n",
    "            self.biases['bK%d' % (i)] = bias_variable([widths[i][1], ], var_name='bK%d' % (i))\n",
    "    \n",
    "    '''\n",
    "    Apply net#################################################################################################################\n",
    "    '''\n",
    "    \n",
    "    def encoder_apply(self,prev_layer):\n",
    "        #prev_layer=self.x\n",
    "        with tf.compat.v1.variable_scope('encoder',reuse=tf.compat.v1.AUTO_REUSE):\n",
    "            widths=self.params['encoder_layer']\n",
    "            for i in np.arange(len(widths)-1):\n",
    "                prev_layer = tf.nn.relu(tf.matmul(prev_layer, self.weights['WE%d' % (i)]) + self.biases['bE%d' % (i)])\n",
    "            return tf.matmul(prev_layer, self.weights['WE%d' % (len(widths)-1)]) + self.biases['bE%d' % (len(widths)-1)]\n",
    "    \n",
    "    def force_apply(self,prev_layer):\n",
    "        #prev_layer=self.f\n",
    "        with tf.compat.v1.variable_scope('forcing',reuse=tf.compat.v1.AUTO_REUSE):\n",
    "            widths=self.params['forcing_layer']\n",
    "            for i in np.arange(len(widths)-1):\n",
    "                prev_layer = tf.nn.relu(tf.matmul(prev_layer, self.weights['Wf%d' % (i)]) + self.biases['bf%d' % (i)])\n",
    "            return tf.matmul(prev_layer, self.weights['Wf%d' % (len(widths)-1)]) + self.biases['bf%d' % (len(widths)-1)]\n",
    "    \n",
    "    def feature_apply(self,x_encoder,f_encoder):\n",
    "        #self.x_encoder,self.f_encoder\n",
    "        with tf.compat.v1.variable_scope('feature',reuse=tf.compat.v1.AUTO_REUSE):\n",
    "            prev_layer=tf.concat([x_encoder,f_encoder],axis=1)\n",
    "            widths=self.params['feature_layer']\n",
    "            for i in np.arange(len(widths)-1):\n",
    "                prev_layer = tf.nn.relu(tf.matmul(prev_layer, self.weights['Wfe%d' % (i)]) + self.biases['bfe%d' % (i)])\n",
    "            return tf.matmul(prev_layer, self.weights['Wfe%d' % (len(widths)-1)]) + self.biases['bfe%d' % (len(widths)-1)]\n",
    "    \n",
    "    def K_apply(self,prev_layer):\n",
    "        with tf.compat.v1.variable_scope('K_net',reuse=tf.compat.v1.AUTO_REUSE):\n",
    "            widths=self.params['K_layer']\n",
    "            for i in np.arange(len(widths)-1):\n",
    "                prev_layer = tf.nn.relu(tf.matmul(prev_layer, self.weights['WK%d' % (i)]) + self.biases['bK%d' % (i)])\n",
    "            omegas=tf.matmul(prev_layer, self.weights['WK%d' % (len(widths)-1)]) + self.biases['bK%d' % (len(widths)-1)]\n",
    "            \n",
    "            #use omega to construct matrix K\n",
    "            delta_t=self.params['deltt']\n",
    "            scale = tf.exp(omegas[:, 1] * delta_t)\n",
    "            entry11 = tf.multiply(scale, tf.cos(omegas[:, 0] * delta_t))\n",
    "            entry12 = tf.multiply(scale, tf.sin(omegas[:, 0] * delta_t))\n",
    "            row1 = tf.stack([entry11, -entry12], axis=1)  # [None, 2]\n",
    "            row2 = tf.stack([entry12, entry11], axis=1)  # [None, 2]\n",
    "            return tf.stack([row1, row2], axis=2)  # [None, 2, 2] put one row below other\n",
    "     \n",
    "    def advance_apply(self,feature,K,steps):\n",
    "        with tf.compat.v1.variable_scope('advance',reuse=tf.compat.v1.AUTO_REUSE):\n",
    "            y=[]\n",
    "            for step in np.arange(steps):\n",
    "                ystack = tf.reshape(feature[step],(1,self.params['input_layer']))\n",
    "                Kstack = K[step]\n",
    "                y.append(tf.matmul(ystack,Kstack))\n",
    "            return tf.concat(y,axis=0)\n",
    "    \n",
    "    def decoder_apply(self,prev_layer):\n",
    "        #prev_layer=self.x_adv\n",
    "        with tf.compat.v1.variable_scope('decoder',reuse=tf.compat.v1.AUTO_REUSE):\n",
    "            widths=self.params['decoder_layer']\n",
    "            for i in np.arange(len(widths)-1):\n",
    "                prev_layer = tf.nn.relu(tf.matmul(prev_layer, self.weights['WD%d' % (i)]) + self.biases['bD%d' % (i)])\n",
    "            #self.y = \n",
    "            return tf.matmul(prev_layer, self.weights['WD%d' % (len(widths)-1)]) + self.biases['bD%d' % (len(widths)-1)]\n",
    "    \n",
    "    def forward_net(self,x,f,steps):\n",
    "        #For only one step\n",
    "        x_en=self.encoder_apply(x)\n",
    "        f_en=self.force_apply(f)\n",
    "        feature=self.feature_apply(x_en,f_en)\n",
    "        K=self.K_apply(feature)\n",
    "        x_adv=self.advance_apply(feature,K,steps)\n",
    "        y=self.decoder_apply(x_adv)\n",
    "        return y \n",
    "    \n",
    "    def loss1(self,x,f,y):\n",
    "        with tf.compat.v1.variable_scope('loss1',reuse=tf.compat.v1.AUTO_REUSE):\n",
    "            return tf.reduce_mean(tf.square(self.forward_net(x,f,self.params['step'])-y))\n",
    "    \n",
    "    def loss2(self,x):\n",
    "        with tf.compat.v1.variable_scope('loss2',reuse=tf.compat.v1.AUTO_REUSE):\n",
    "            x_en=self.encoder_apply(x)\n",
    "            x_de=self.decoder_apply(x_en)\n",
    "            return tf.reduce_mean(tf.square(x_de-x))\n",
    "    \n",
    "    def loss3(self,x,f,y):     \n",
    "        with tf.compat.v1.variable_scope('loss3',reuse=tf.compat.v1.AUTO_REUSE):\n",
    "            x_en=self.encoder_apply(x)\n",
    "            f_en=self.force_apply(f)\n",
    "            feature=self.feature_apply(x_en,f_en)\n",
    "            K=self.K_apply(feature)\n",
    "            x_adv=self.advance_apply(feature,K,self.params['step'])\n",
    "            y_en=self.encoder_apply(y)\n",
    "            return tf.reduce_mean(tf.square(y_en-x_adv))\n",
    "    \n",
    "    def loss4(self,x,f,y):\n",
    "        xt=tf.reshape(x[0],(1,self.params['input_layer']))\n",
    "        with tf.compat.v1.variable_scope('loss4',reuse=tf.compat.v1.AUTO_REUSE):\n",
    "            N,m=y.shape\n",
    "            err_bar=[]\n",
    "            for i in np.arange(self.params['step']):\n",
    "                ft=tf.reshape(f[i],(1,self.params['input_f_layer']))\n",
    "                x_en=self.encoder_apply(xt)\n",
    "                f_en=self.force_apply(ft)\n",
    "                feature=self.feature_apply(x_en,f_en)\n",
    "                K=self.K_apply(feature)\n",
    "                x_adv=self.advance_apply(feature,K,1)\n",
    "                y_bar=self.decoder_apply(x_adv)\n",
    "                err_bar.append(y_bar-y[i])\n",
    "                xt=y_bar\n",
    "            return tf.reduce_mean(tf.square(err_bar))\n",
    "        \n",
    "    def Loss(self,x,f,y): \n",
    "        loss1=self.loss1(x,f,y)\n",
    "        loss2=self.loss2(x)\n",
    "        loss3=self.loss3(x,f,y)\n",
    "        loss4=self.loss4(x,f,y)\n",
    "        with tf.compat.v1.variable_scope('Loss',reuse=tf.compat.v1.AUTO_REUSE):\n",
    "            self.Loss=loss4+loss2+loss1+loss3\n",
    "    \n",
    "    def opt(self):\n",
    "        self.optimizer = tf.compat.v1.train.AdamOptimizer(learning_rate=self.params['lr'])\n",
    "        self.train_op = self.optimizer.minimize(self.Loss)\n",
    "\n"
   ]
  },
  {
   "cell_type": "markdown",
   "id": "1727ef9f-2f6b-42c0-bc01-8fcb55c1a9f7",
   "metadata": {},
   "source": [
    "# Training data"
   ]
  },
  {
   "cell_type": "code",
   "execution_count": 9,
   "id": "54d1eb81-14ed-4e15-b4b4-7c5d1eae621f",
   "metadata": {},
   "outputs": [],
   "source": [
    "params={}\n",
    "params['step']=X_train.shape[0]\n",
    "params['encoder_layer']=[[X_train.shape[1],30],[30,15],[15,2]]\n",
    "params['decoder_layer']=[[2,15],[15,30],[30,X_train.shape[1]]]\n",
    "params['feature_layer']=[[2+2,10],[10,2]]\n",
    "params['forcing_layer']=[[1,2]]\n",
    "params['K_layer']=[[2,2]]\n",
    "params['input_layer']=X_train.shape[1]\n",
    "params['input_f_layer']=X_train_F.shape[1]\n",
    "params['lr']=0.0001\n",
    "params['deltt']=0.01\n",
    "\n",
    "model=Test_net(params)\n",
    "model.Loss(model.x,model.f,model.y)\n",
    "model.opt()"
   ]
  },
  {
   "cell_type": "code",
   "execution_count": 10,
   "id": "ebc8983d-bcda-407b-846c-80f1c94abf74",
   "metadata": {},
   "outputs": [],
   "source": [
    "sess=tf.compat.v1.Session()\n",
    "init_op = tf.compat.v1.global_variables_initializer()\n",
    "sess.run(init_op)\n",
    "saver = tf.compat.v1.train.Saver()\n",
    "r1,r2=[],[]"
   ]
  },
  {
   "cell_type": "code",
   "execution_count": null,
   "id": "64c10e0f-0818-4297-886a-587086a2ee52",
   "metadata": {},
   "outputs": [],
   "source": [
    "epoch=6000\n",
    "BATCH_NUM=50\n",
    "for step in np.arange(epoch):\n",
    "    if np.mod(step,50)==0 and step!=0:\n",
    "        saver.save(sess, \"model/model.ckpt\")\n",
    "    for index in np.arange(BATCH_NUM):\n",
    "        X_train=np.concatenate((DATA[index]['x'][0:-1].reshape((-1,1)),DATA[index]['y'][0:-1].reshape((-1,1))),axis=1)\n",
    "        Y_train=np.concatenate((DATA[index]['x'][1:].reshape((-1,1)),DATA[index]['y'][1:].reshape((-1,1))),axis=1)\n",
    "        X_train_F=DATA[index]['u'].reshape((-1,1))\n",
    "        sess.run(model.train_op,feed_dict={model.x:X_train,model.y:Y_train,model.f:X_train_F})\n",
    "    r1.append(sess.run(model.Loss,feed_dict={model.x:X_train,model.y:Y_train,model.f:X_train_F}))\n",
    "    #r2.append(sess.run(model.Loss,feed_dict={model.x:X_test,model.y_bar:Y_test,model.f:X_test_F}))"
   ]
  },
  {
   "cell_type": "code",
   "execution_count": null,
   "id": "dfb9c2d6-166e-4416-b22a-126a7a2d2219",
   "metadata": {},
   "outputs": [],
   "source": [
    "plt.plot(r1)"
   ]
  },
  {
   "cell_type": "code",
   "execution_count": null,
   "id": "b2015f91-72ab-43fd-bc62-03ba61c0a17c",
   "metadata": {},
   "outputs": [],
   "source": [
    "np.min(r1)"
   ]
  },
  {
   "cell_type": "markdown",
   "id": "269bc2a2-dbbf-4140-894e-e1bc9ea71875",
   "metadata": {},
   "source": [
    "# Test"
   ]
  },
  {
   "cell_type": "code",
   "execution_count": null,
   "id": "d2e836ab-7bc2-4e02-8d37-1a981a8acde2",
   "metadata": {},
   "outputs": [],
   "source": [
    "x = tf.compat.v1.placeholder(tf.float64, [1, params['input_layer']])\n",
    "f = tf.compat.v1.placeholder(tf.float64, [1, params['input_f_layer']])\n",
    "y_bar=model.forward_net(x,f,1)"
   ]
  },
  {
   "cell_type": "code",
   "execution_count": null,
   "id": "472eb939-e813-43a6-9fe8-b18a51c231f7",
   "metadata": {},
   "outputs": [],
   "source": [
    "index=1\n",
    "X_test=np.concatenate((DATA[index]['x'][0:-1].reshape((-1,1)),DATA[index]['y'][0:-1].reshape((-1,1))),axis=1)\n",
    "Y_test=np.concatenate((DATA[index]['x'][1:].reshape((-1,1)),DATA[index]['y'][1:].reshape((-1,1))),axis=1)\n",
    "X_test_F=DATA[index]['u'].reshape((-1,1))\n",
    "print(X_test.shape,Y_test.shape,X_test_F.shape)\n",
    "\n",
    "X,Y,XF=X_train[0].reshape((1,-1)),Y_train,X_train_F[0].reshape((1,-1))\n",
    "y_=[]\n",
    "for t in np.arange(params['step']):\n",
    "    ytem=sess.run(y_bar,feed_dict={x:X,f:XF})\n",
    "    y_.append(ytem.tolist()[0])\n",
    "    X=ytem\n",
    "    XF=X_test_F[t].reshape((1,-1))\n",
    "y_reg=np.array(y_)\n",
    "plt.plot(y_reg,'r')\n",
    "print(y_reg.shape)\n",
    "plt.plot(Y,'b')"
   ]
  },
  {
   "cell_type": "code",
   "execution_count": null,
   "id": "54e83564-9636-4838-b876-0556fb3897c0",
   "metadata": {},
   "outputs": [],
   "source": [
    "y_bbar=model.forward_net(model.x,model.f,params['step'])"
   ]
  },
  {
   "cell_type": "code",
   "execution_count": null,
   "id": "3364cead-2cc9-488c-8153-390dbae39f7f",
   "metadata": {},
   "outputs": [],
   "source": [
    "X,Y,XF=X_train,Y_train,X_train_F\n",
    "print(X.shape,Y.shape,XF.shape)\n",
    "y_=sess.run(y_bbar,feed_dict={model.x:X,model.f:XF})\n",
    "plt.plot(y_,'r')\n",
    "plt.plot(Y,'b')"
   ]
  },
  {
   "cell_type": "code",
   "execution_count": 403,
   "id": "7463d026-7bf8-4b44-bbca-a1bd9c565b55",
   "metadata": {},
   "outputs": [
    {
     "data": {
      "text/plain": [
       "[<matplotlib.lines.Line2D at 0x1a7be0a5e20>]"
      ]
     },
     "execution_count": 403,
     "metadata": {},
     "output_type": "execute_result"
    },
    {
     "data": {
      "image/png": "[encoded data removed]",
      "text/plain": [
       "<Figure size 432x288 with 1 Axes>"
      ]
     },
     "metadata": {
      "needs_background": "light"
     },
     "output_type": "display_data"
    }
   ],
   "source": [
    "ers=[]\n",
    "\n",
    "for index in np.arange(100):\n",
    "    X_test=np.concatenate((DATA[index]['x'][0:-1].reshape((-1,1)),DATA[index]['y'][0:-1].reshape((-1,1))),axis=1)\n",
    "    Y_test=np.concatenate((DATA[index]['x'][1:].reshape((-1,1)),DATA[index]['y'][1:].reshape((-1,1))),axis=1)\n",
    "    X_test_F=DATA[index]['u'].reshape((-1,1))\n",
    "    \n",
    "    X,Y,XF=X_test,Y_test,X_test_F\n",
    "    x0,u0=X_test[0].reshape((1,-1)),X_test_F[0].reshape((1,-1))\n",
    "    y_reg=[]\n",
    "    for t in np.arange(X_test_F.shape[0]):\n",
    "        y_=sess.run(y_bar,feed_dict={model.x:x0,model.f:u0})\n",
    "        x0,u0=y_,X_test_F[t].reshape((1,-1))\n",
    "        y_reg.append(y_.tolist()[0])\n",
    "    y_reg=np.array(y_reg)\n",
    "    ers.append(np.mean(np.abs(y_reg-Y)))\n",
    "plt.plot(ers)"
   ]
  },
  {
   "cell_type": "code",
   "execution_count": 404,
   "id": "91714b1b-dc02-4e56-8b90-e94160adfb51",
   "metadata": {},
   "outputs": [
    {
     "data": {
      "text/plain": [
       "[<matplotlib.lines.Line2D at 0x1a7be212250>]"
      ]
     },
     "execution_count": 404,
     "metadata": {},
     "output_type": "execute_result"
    },
    {
     "data": {
      "image/png": "[encoded data removed]",
      "text/plain": [
       "<Figure size 432x288 with 1 Axes>"
      ]
     },
     "metadata": {
      "needs_background": "light"
     },
     "output_type": "display_data"
    }
   ],
   "source": [
    "ers=[]\n",
    "\n",
    "for index in np.arange(100):\n",
    "    X_test=np.concatenate((DATA[index]['x'][0:-1].reshape((-1,1)),DATA[index]['y'][0:-1].reshape((-1,1))),axis=1)\n",
    "    Y_test=np.concatenate((DATA[index]['x'][1:].reshape((-1,1)),DATA[index]['y'][1:].reshape((-1,1))),axis=1)\n",
    "    X_test_F=DATA[index]['u'].reshape((-1,1))\n",
    "    \n",
    "    X,Y,XF=X_test,Y_test,X_test_F\n",
    "    y_reg=sess.run(y_bar,feed_dict={model.x:X,model.f:XF})\n",
    "    ers.append(np.mean(np.abs(y_reg-Y)))\n",
    "plt.plot(ers)"
   ]
  },
  {
   "cell_type": "markdown",
   "id": "d90b97c5-8635-4dc6-aa4e-6851bd99eabd",
   "metadata": {},
   "source": [
    "# Looks Good!!!!"
   ]
  },
  {
   "cell_type": "code",
   "execution_count": 405,
   "id": "8759e1e6-b468-47c1-8af2-4e18b2d763d7",
   "metadata": {},
   "outputs": [
    {
     "data": {
      "text/plain": [
       "<matplotlib.image.AxesImage at 0x1a7be25c370>"
      ]
     },
     "execution_count": 405,
     "metadata": {},
     "output_type": "execute_result"
    },
    {
     "data": {
      "image/png": "[encoded data removed]",
      "text/plain": [
       "<Figure size 288x576 with 1 Axes>"
      ]
     },
     "metadata": {
      "needs_background": "light"
     },
     "output_type": "display_data"
    }
   ],
   "source": [
    "K=sess.run(model.K)\n",
    "plt.matshow(K)"
   ]
  },
  {
   "cell_type": "code",
   "execution_count": 406,
   "id": "9e6c97ea-93ce-4a7c-b7fb-0c916f12e1a8",
   "metadata": {},
   "outputs": [
    {
     "data": {
      "text/plain": [
       "[<matplotlib.lines.Line2D at 0x1a7dfed5670>]"
      ]
     },
     "execution_count": 406,
     "metadata": {},
     "output_type": "execute_result"
    },
    {
     "data": {
      "image/png": "[encoded data removed]",
      "text/plain": [
       "<Figure size 432x288 with 1 Axes>"
      ]
     },
     "metadata": {
      "needs_background": "light"
     },
     "output_type": "display_data"
    }
   ],
   "source": [
    "u,sigma,v=np.linalg.svd(K)\n",
    "plt.plot(sigma)"
   ]
  },
  {
   "cell_type": "code",
   "execution_count": null,
   "id": "fede23d5-21ac-4790-9e7b-9e98fb668b29",
   "metadata": {},
   "outputs": [],
   "source": []
  }
 ],
 "metadata": {
  "kernelspec": {
   "display_name": "Python 3",
   "language": "python",
   "name": "python3"
  },
  "language_info": {
   "codemirror_mode": {
    "name": "ipython",
    "version": 3
   },
   "file_extension": ".py",
   "mimetype": "text/x-python",
   "name": "python",
   "nbconvert_exporter": "python",
   "pygments_lexer": "ipython3",
   "version": "3.8.8"
  }
 },
 "nbformat": 4,
 "nbformat_minor": 5
}
